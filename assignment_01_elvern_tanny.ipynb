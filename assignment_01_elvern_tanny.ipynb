{
 "cells": [
  {
   "cell_type": "markdown",
   "id": "7b1cfb22-4b03-4682-9a21-bca5cb05c682",
   "metadata": {},
   "source": [
    "# Assignment 1: detecting offensive content on twitter\n",
    "**Assignment due 1 March 2025 11:59pm**\n",
    "\n",
    "Welcome to the first assignment for 50.055 Machine Learning Operations. These assignments give you a chance to practice the methods and tools you have learned. \n",
    "\n",
    "**This assignment is an individual assignment.**\n",
    "\n",
    "- Read the instructions in this notebook carefully\n",
    "- Add your solution code and answers in the appropriate places. The questions are marked as **QUESTION:**, the places where you need to add your code and text answers are marked as **ADD YOUR SOLUTION HERE**\n",
    "- The completed notebook, including your added code and generated output, will be your submission for the assignment.\n",
    "- The notebook should execute without errors from start to finish when you select \"Restart Kernel and Run All Cells..\". Please test this before submission.\n",
    "- Use the SUTD Education Cluster or Google Colab to solve and test the assignment.\n",
    "\n",
    "**Rubric for assessment** \n",
    "\n",
    "Your submission will be graded using the following criteria. \n",
    "1. Code executes: your code should execute without errors. The SUTD Education cluster should be used to ensure the same execution environment.\n",
    "2. Correctness: the code should produce the correct result or the text answer should state the factual correct answer.\n",
    "3. Style: your code should be written in a way that is clean and efficient. Your text answers should be relevant, concise and easy to understand.\n",
    "4. Partial marks will be awarded for partially correct solutions.\n",
    "5. There is a maximum of 76 points for this assignment.\n",
    "\n",
    "\n",
    "**ChatGPT policy:** \n",
    "\n",
    "If you use AI tools, such as ChatGPT, to solve the assignment questions, you need to be transparent about its use and mark AI-generated content as such. In particular, you should include the following in addition to your final answer:\n",
    "- A copy or screenshot of the prompt you used\n",
    "- The name of the AI model\n",
    "- The AI generated output\n",
    "- An explanation why the answer is correct or what you had to change to arrive at the correct answer\n",
    "\n",
    "**Assignment Notes:** Please make sure to save the notebook as you go along. Submission Instructions are located at the bottom of the notebook.\n"
   ]
  },
  {
   "cell_type": "code",
   "execution_count": 1,
   "id": "980439b6-d91e-467e-a0b8-45a0d6637c45",
   "metadata": {},
   "outputs": [],
   "source": [
    "# Installing all required packages\n",
    "# ----------------\n",
    "# ! pip install transformers[torch]==4.37.2\n",
    "# ! pip install evaluate==0.4.1\n",
    "# ! pip install scikit-learn==1.4.0\n",
    "# ! pip install datasets==2.17.1\n",
    "# ! pip install wandb==0.16.3\n",
    "# ! pip install seaborn==0.13.2\n",
    "# ! pip install peft==0.10.0\n",
    "# ! pip install accelerate==0.28.0 \n",
    "# ----------------"
   ]
  },
  {
   "cell_type": "code",
   "execution_count": 1,
   "id": "a272f7c4-8dec-4ec8-986c-2ee28ed366f6",
   "metadata": {},
   "outputs": [],
   "source": [
    "# Importing all required packages\n",
    "# ----------------\n",
    "from sklearn.feature_extraction.text import CountVectorizer\n",
    "from sklearn.linear_model import SGDClassifier\n",
    "from sklearn import metrics\n",
    "\n",
    "import pandas as pd\n",
    "import numpy as np\n",
    "import evaluate\n",
    "import time\n",
    "\n",
    "import seaborn as sns\n",
    "import matplotlib.pyplot as plt\n",
    "\n",
    "import transformers\n",
    "from transformers import AutoTokenizer\n",
    "from transformers import TrainingArguments, Trainer\n",
    "from datasets import load_dataset\n",
    "# ----------------"
   ]
  },
  {
   "cell_type": "code",
   "execution_count": 2,
   "id": "adda5aa5-1297-4767-b36e-05fe6df2cb6a",
   "metadata": {},
   "outputs": [],
   "source": [
    "%matplotlib inline"
   ]
  },
  {
   "cell_type": "markdown",
   "id": "77f84068-a112-46a0-b531-494a903eccae",
   "metadata": {},
   "source": [
    "# Offensive language detection\n",
    "\n",
    "Content moderation of offensive or hateful language is an important task on social media platforms. \n",
    "In this assignment, you will train a text classification models for detecting offensive language on twitter. You will run experiments with different models and evaluate their performance and costs.\n",
    "\n",
    "We will use the TweetEval data set from Barbiert et al (2020): https://aclanthology.org/2020.findings-emnlp.148.pdf\n",
    "\n",
    "\n",
    "**Warning**\n",
    "Some of the content contains rude and offensive language. If you know that this causes you distress, let the course instructor know to arrange a different assessment.\n",
    "\n",
    "\n"
   ]
  },
  {
   "cell_type": "code",
   "execution_count": 3,
   "id": "730b9f1f-5862-40c0-8b10-a1b7c23fac90",
   "metadata": {},
   "outputs": [
    {
     "name": "stderr",
     "output_type": "stream",
     "text": [
      "Using the latest cached version of the dataset since tweet_eval couldn't be found on the Hugging Face Hub\n",
      "Found the latest cached dataset configuration 'offensive' at C:\\Users\\ASUS\\.cache\\huggingface\\datasets\\tweet_eval\\offensive\\0.0.0\\b3a375baf0f409c77e6bc7aa35102b7b3534f8be (last modified on Mon Feb 24 15:34:07 2025).\n"
     ]
    }
   ],
   "source": [
    "dataset = load_dataset(\"tweet_eval\", \"offensive\")"
   ]
  },
  {
   "cell_type": "code",
   "execution_count": 4,
   "id": "e89a6973-1615-4d7d-8751-744e140465ca",
   "metadata": {},
   "outputs": [
    {
     "name": "stdout",
     "output_type": "stream",
     "text": [
      "First training sample:\n",
      "{'text': '@user Bono... who cares. Soon people will understand that they gain nothing from following a phony celebrity. Become a Leader of your people instead or help and support your fellow countrymen.', 'label': 0}\n"
     ]
    }
   ],
   "source": [
    "# QUESTION: print the first training set sample\n",
    "\n",
    "#--- ADD YOUR SOLUTION HERE (1 point)---\n",
    "print(\"First training sample:\")\n",
    "print(dataset[\"train\"][0])\n",
    "#------------------------------\n",
    "# Hint: you should see a tweet about U2 singer Bono"
   ]
  },
  {
   "cell_type": "code",
   "execution_count": 5,
   "id": "9f8915fe-1ed9-4b4a-82ed-fa34de18427f",
   "metadata": {},
   "outputs": [
    {
     "name": "stdout",
     "output_type": "stream",
     "text": [
      "Possible label values: [0, 1]\n",
      "Label names: ['non-offensive', 'offensive']\n"
     ]
    }
   ],
   "source": [
    "# QUESTION: what are the possible values of the labels? What is their meaning? \n",
    "# Print the set of label values and their label names\n",
    "#--- ADD YOUR SOLUTION HERE (5 points) ---\n",
    "# The dataset features include a \"label\" feature with associated names.\n",
    "label_names = dataset[\"train\"].features[\"label\"].names\n",
    "print(\"Possible label values:\", list(range(len(label_names))))\n",
    "print(\"Label names:\", label_names)\n",
    "# -------\n",
    "# Hint: it is a binary task"
   ]
  },
  {
   "cell_type": "code",
   "execution_count": 6,
   "id": "fdbf3671-1066-4458-92fd-dc1932094187",
   "metadata": {},
   "outputs": [
    {
     "data": {
      "image/png": "[encoded data removed]",
      "text/plain": [
       "<Figure size 800x500 with 1 Axes>"
      ]
     },
     "metadata": {},
     "output_type": "display_data"
    }
   ],
   "source": [
    "# QUESTION: plot a bar chart of the label distribution\n",
    "#--- ADD YOUR SOLUTION HERE (5 points) ---\n",
    "\n",
    "# Convert training split to a DataFrame\n",
    "train_df = pd.DataFrame(dataset[\"train\"])\n",
    "\n",
    "# Plot the distribution using seaborn countplot\n",
    "plt.figure(figsize=(8, 5))\n",
    "sns.countplot(x=\"label\", data=train_df, hue=\"label\", palette=\"viridis\", legend=False)\n",
    "plt.title(\"Label Distribution in Training Set\")\n",
    "plt.xlabel(\"Label (0: Non-Offensive, 1: Offensive)\")\n",
    "plt.ylabel(\"Count\")\n",
    "plt.show()\n",
    "\n",
    "#------------------------------\n",
    "# Hint: it is not evenly distributed"
   ]
  },
  {
   "cell_type": "code",
   "execution_count": 7,
   "id": "8f73f29c-9728-4a19-8d5a-9e7440d56f8d",
   "metadata": {},
   "outputs": [],
   "source": [
    "# QUESTION: separate data set into training, validation and test according to given dataset split\n",
    "# You should end up with the following variables\n",
    "# train_text = array containing strings in training set\n",
    "# train_labels = array containing numeric labels in training set\n",
    "# validation_text = array containing strings in training set\n",
    "# validation_labels = array containing numeric labels in training set\n",
    "# test_text = array containing strings in training set\n",
    "# test_labels = array containing numeric labels in training set\n",
    "\n",
    "#--- ADD YOUR SOLUTION HERE (10 points) ---\n",
    "\n",
    "train_text = dataset[\"train\"][\"text\"]\n",
    "train_labels = dataset[\"train\"][\"label\"]\n",
    "\n",
    "validation_text = dataset[\"validation\"][\"text\"]\n",
    "validation_labels = dataset[\"validation\"][\"label\"]\n",
    "\n",
    "test_text = dataset[\"test\"][\"text\"]\n",
    "test_labels = dataset[\"test\"][\"label\"]\n",
    "\n",
    "#------------------------------\n"
   ]
  },
  {
   "cell_type": "code",
   "execution_count": 8,
   "id": "4254bcf4-3926-4989-99a4-6985e3410caa",
   "metadata": {},
   "outputs": [
    {
     "name": "stdout",
     "output_type": "stream",
     "text": [
      "#train:  11916\n",
      "#validation:  1324\n",
      "#test:  860\n"
     ]
    }
   ],
   "source": [
    "# check the size of the data splits\n",
    "print(\"#train: \", len(train_text)) \n",
    "print(\"#validation: \", len(validation_text)) \n",
    "print(\"#test: \", len(test_text)) \n",
    "\n",
    "# Hint: you should see\n",
    "#train:  11916\n",
    "#validation:  1324\n",
    "#test:  860"
   ]
  },
  {
   "cell_type": "code",
   "execution_count": 11,
   "id": "9562c182-b658-49b3-bcd3-852052dc7e9c",
   "metadata": {},
   "outputs": [
    {
     "name": "stdout",
     "output_type": "stream",
     "text": [
      "Pipeline(steps=[('vect', CountVectorizer()), ('tfidf', TfidfTransformer()),\n",
      "                ('clf', SGDClassifier())])\n"
     ]
    }
   ],
   "source": [
    "# \n",
    "# QUESTION: create a scikit-learn pipeline object that creates unigram features, applies tf-idf weighting and trains a SGDClassifier \n",
    "# tf-idf stands for “Term Frequency times Inverse Document Frequency”.\n",
    "# tf-idf is a feature weighting methods commonly used in NLP and IR\n",
    "# use default parameters for unigram feature extraction, tf-idf and the SGDClassifier\n",
    "# add additional import statements in this cell as needed\n",
    "\n",
    "#--- ADD YOUR SOLUTION HERE (10 points) ---\n",
    "from sklearn.pipeline import Pipeline\n",
    "from sklearn.feature_extraction.text import TfidfTransformer\n",
    "\n",
    "pipeline = Pipeline([\n",
    "    ('vect', CountVectorizer(ngram_range=(1, 1))),   # Unigram features\n",
    "    ('tfidf', TfidfTransformer()),                     # TF-IDF weighting\n",
    "    ('clf', SGDClassifier())                           # Linear classifier using SGD\n",
    "])\n",
    "\n",
    "print(pipeline)\n",
    "#------------------------------\n",
    "# Hint: use the scikit-learn library"
   ]
  },
  {
   "cell_type": "markdown",
   "id": "0f27bb73-f483-4364-9b9a-59493031cfcf",
   "metadata": {},
   "source": [
    "# Train the model\n"
   ]
  },
  {
   "cell_type": "code",
   "execution_count": 12,
   "id": "54deb077-2ede-425c-91f8-32d24381f4fe",
   "metadata": {},
   "outputs": [],
   "source": [
    "# \n",
    "# QUESTION: apply your pipeline of feature extraction and model training to the training set\n",
    "# Measure the wall-clock training time needed \n",
    "# Store the training time in a variable 'train_time_sgd\n",
    "#--- ADD YOUR SOLUTION HERE (5 points) ---\n",
    "import time\n",
    "\n",
    "# Start the timer\n",
    "start_time = time.time()\n",
    "\n",
    "# Train the pipeline on the training set\n",
    "pipeline.fit(train_text, train_labels)\n",
    "\n",
    "# Calculate the elapsed wall-clock training time\n",
    "train_time_sgd = time.time() - start_time\n",
    "#------------------------------"
   ]
  },
  {
   "cell_type": "code",
   "execution_count": 13,
   "id": "3de2987f-83f1-4948-a390-05ed2517f151",
   "metadata": {},
   "outputs": [
    {
     "name": "stdout",
     "output_type": "stream",
     "text": [
      "Training time: 0.23806381225585938s\n"
     ]
    }
   ],
   "source": [
    "print(f\"Training time: {train_time_sgd}s\")\n",
    "# Hint: training should take < 1 sec"
   ]
  },
  {
   "cell_type": "markdown",
   "id": "0637838e-9741-4c6f-a889-e76dfbe25ead",
   "metadata": {},
   "source": [
    "# Test the model\n"
   ]
  },
  {
   "cell_type": "code",
   "execution_count": 14,
   "id": "f2c2a4a7-78ea-4942-afe3-cf20d177eca3",
   "metadata": {},
   "outputs": [
    {
     "name": "stdout",
     "output_type": "stream",
     "text": [
      "Majority class:  0\n",
      "Majority Baseline on Validation Set:\n",
      "               precision    recall  f1-score   support\n",
      "\n",
      "non-offensive       0.65      1.00      0.79       865\n",
      "    offensive       1.00      0.00      0.00       459\n",
      "\n",
      "     accuracy                           0.65      1324\n",
      "    macro avg       0.83      0.50      0.40      1324\n",
      " weighted avg       0.77      0.65      0.52      1324\n",
      "\n",
      "Majority Baseline on Test Set:\n",
      "               precision    recall  f1-score   support\n",
      "\n",
      "non-offensive       0.72      1.00      0.84       620\n",
      "    offensive       1.00      0.00      0.00       240\n",
      "\n",
      "     accuracy                           0.72       860\n",
      "    macro avg       0.86      0.50      0.42       860\n",
      " weighted avg       0.80      0.72      0.60       860\n",
      "\n"
     ]
    }
   ],
   "source": [
    "# \n",
    "# QUESTION: compute the majority class baseline score on the validation set and test set\n",
    "# the majority class baseline is the score you get if you always predict the most frequent label\n",
    "# \n",
    "# Compute the precision, recall and F1 score for the majority baseline for validation and test set for each class\n",
    "#\n",
    "#--- ADD YOUR SOLUTION HERE (5 points) ---\n",
    "from sklearn.metrics import classification_report\n",
    "\n",
    "majority_class = max(set(train_labels), key=train_labels.count)\n",
    "print(\"Majority class: \", majority_class)\n",
    "\n",
    "# Create majority baseline predictions for validation and test sets\n",
    "val_majority_preds = [majority_class] * len(validation_labels)\n",
    "test_majority_preds = [majority_class] * len(test_labels)\n",
    "\n",
    "val_majority_report = classification_report(\n",
    "    validation_labels, val_majority_preds, target_names=dataset[\"train\"].features[\"label\"].names, zero_division=1\n",
    ")\n",
    "test_majority_report = classification_report(\n",
    "    test_labels, test_majority_preds, target_names=dataset[\"train\"].features[\"label\"].names, zero_division=1\n",
    ")\n",
    "\n",
    "# Print the classification report for the validation set\n",
    "print(\"Majority Baseline on Validation Set:\")\n",
    "print(val_majority_report)\n",
    "\n",
    "# Print the classification report for the test set\n",
    "print(\"Majority Baseline on Test Set:\")\n",
    "print(test_majority_report)\n",
    "#------------------------------\n"
   ]
  },
  {
   "cell_type": "code",
   "execution_count": 15,
   "id": "c1a2cb65-1d21-4df8-b339-adc157eef182",
   "metadata": {},
   "outputs": [
    {
     "name": "stdout",
     "output_type": "stream",
     "text": [
      "Validation Set Metrics:\n",
      "Accuracy: 0.763595166163142\n",
      "Precision (positive): 0.8230088495575221\n",
      "Recall (positive): 0.40522875816993464\n",
      "F1 Score (positive): 0.5430656934306569\n",
      "\n",
      "Test Set Metrics:\n",
      "Accuracy: 0.8046511627906977\n",
      "Precision (positive): 0.8214285714285714\n",
      "Recall (positive): 0.38333333333333336\n",
      "F1 Score (positive): 0.5227272727272727\n"
     ]
    }
   ],
   "source": [
    "# \n",
    "# \n",
    "# QUESTION: now use your pipeline to make predictions on validation and test set\n",
    "# compute and print accuracy, precision, recall, F1 score\n",
    "# \n",
    "# From now on, we are only concerned with the F1 score for the \"positive\" class which are the offensive tweets\n",
    "# Store the test F1 score for the \"positive\" class in a variable 'f1_validation_sgd' and 'f1_test_sgd' for validation and test set, respectively \n",
    "#--- ADD YOUR SOLUTION HERE (10 points) ---\n",
    "from sklearn.metrics import accuracy_score, precision_score, recall_score, f1_score\n",
    "\n",
    "# Make predictions on the validation set\n",
    "val_preds = pipeline.predict(validation_text)\n",
    "\n",
    "# Calculate metrics for the validation set\n",
    "val_accuracy = accuracy_score(validation_labels, val_preds)\n",
    "val_precision = precision_score(validation_labels, val_preds, pos_label=1)\n",
    "val_recall = recall_score(validation_labels, val_preds, pos_label=1)\n",
    "f1_validation_sgd = f1_score(validation_labels, val_preds, pos_label=1)\n",
    "\n",
    "print(\"Validation Set Metrics:\")\n",
    "print(f\"Accuracy: {val_accuracy}\")\n",
    "print(f\"Precision (positive): {val_precision}\")\n",
    "print(f\"Recall (positive): {val_recall}\")\n",
    "print(f\"F1 Score (positive): {f1_validation_sgd}\")\n",
    "\n",
    "# Make predictions on the test set\n",
    "test_preds = pipeline.predict(test_text)\n",
    "\n",
    "# Calculate metrics for the test set\n",
    "test_accuracy = accuracy_score(test_labels, test_preds)\n",
    "test_precision = precision_score(test_labels, test_preds, pos_label=1)\n",
    "test_recall = recall_score(test_labels, test_preds, pos_label=1)\n",
    "f1_test_sgd = f1_score(test_labels, test_preds, pos_label=1)\n",
    "\n",
    "print(\"\\nTest Set Metrics:\")\n",
    "print(f\"Accuracy: {test_accuracy}\")\n",
    "print(f\"Precision (positive): {test_precision}\")\n",
    "print(f\"Recall (positive): {test_recall}\")\n",
    "print(f\"F1 Score (positive): {f1_test_sgd}\")\n",
    "#------------------------------\n",
    "# Hint: F1 scores should be >50%"
   ]
  },
  {
   "cell_type": "markdown",
   "id": "d7958c9e-6aab-4066-a0f0-0296e08c0935",
   "metadata": {},
   "source": [
    "# BERT model\n",
    "\n",
    "Now let us try a more powerful model: the DistilBERT uncased model\n",
    "\n",
    "https://huggingface.co/distilbert-base-uncased"
   ]
  },
  {
   "cell_type": "code",
   "execution_count": 9,
   "id": "4106f683-1c93-414f-b7ba-31a3722367da",
   "metadata": {},
   "outputs": [],
   "source": [
    "# load DistilBERT tokenizer and tokenize data set\n",
    "model_name = \"distilbert-base-uncased\"\n",
    "tokenizer = AutoTokenizer.from_pretrained(model_name)\n",
    "\n",
    "def tokenize_function(examples):\n",
    "    return tokenizer(examples[\"text\"], padding=\"max_length\", truncation=True)\n",
    "\n",
    "tokenized_datasets = dataset.map(tokenize_function, batched=True)\n",
    "train_dataset = tokenized_datasets[\"train\"]\n",
    "eval_dataset = tokenized_datasets[\"validation\"]\n",
    "test_dataset = tokenized_datasets[\"test\"]"
   ]
  },
  {
   "cell_type": "code",
   "execution_count": 10,
   "id": "09087fb6-1cc6-457c-b601-316d7bb3b3b0",
   "metadata": {},
   "outputs": [
    {
     "name": "stderr",
     "output_type": "stream",
     "text": [
      "Some weights of DistilBertForSequenceClassification were not initialized from the model checkpoint at distilbert-base-uncased and are newly initialized: ['classifier.bias', 'classifier.weight', 'pre_classifier.bias', 'pre_classifier.weight']\n",
      "You should probably TRAIN this model on a down-stream task to be able to use it for predictions and inference.\n"
     ]
    },
    {
     "name": "stdout",
     "output_type": "stream",
     "text": [
      "DistilBertForSequenceClassification(\n",
      "  (distilbert): DistilBertModel(\n",
      "    (embeddings): Embeddings(\n",
      "      (word_embeddings): Embedding(30522, 768, padding_idx=0)\n",
      "      (position_embeddings): Embedding(512, 768)\n",
      "      (LayerNorm): LayerNorm((768,), eps=1e-12, elementwise_affine=True)\n",
      "      (dropout): Dropout(p=0.1, inplace=False)\n",
      "    )\n",
      "    (transformer): Transformer(\n",
      "      (layer): ModuleList(\n",
      "        (0-5): 6 x TransformerBlock(\n",
      "          (attention): DistilBertSdpaAttention(\n",
      "            (dropout): Dropout(p=0.1, inplace=False)\n",
      "            (q_lin): Linear(in_features=768, out_features=768, bias=True)\n",
      "            (k_lin): Linear(in_features=768, out_features=768, bias=True)\n",
      "            (v_lin): Linear(in_features=768, out_features=768, bias=True)\n",
      "            (out_lin): Linear(in_features=768, out_features=768, bias=True)\n",
      "          )\n",
      "          (sa_layer_norm): LayerNorm((768,), eps=1e-12, elementwise_affine=True)\n",
      "          (ffn): FFN(\n",
      "            (dropout): Dropout(p=0.1, inplace=False)\n",
      "            (lin1): Linear(in_features=768, out_features=3072, bias=True)\n",
      "            (lin2): Linear(in_features=3072, out_features=768, bias=True)\n",
      "            (activation): GELUActivation()\n",
      "          )\n",
      "          (output_layer_norm): LayerNorm((768,), eps=1e-12, elementwise_affine=True)\n",
      "        )\n",
      "      )\n",
      "    )\n",
      "  )\n",
      "  (pre_classifier): Linear(in_features=768, out_features=768, bias=True)\n",
      "  (classifier): Linear(in_features=768, out_features=2, bias=True)\n",
      "  (dropout): Dropout(p=0.2, inplace=False)\n",
      ")\n"
     ]
    }
   ],
   "source": [
    "# load DistilBERT model for classification\n",
    "\n",
    "#--- ADD YOUR SOLUTION HERE (5 points) ---\n",
    "from transformers import AutoModelForSequenceClassification\n",
    "\n",
    "# Initialize a DistilBERT model with a classification head (binary classification: offensive vs non-offensive)\n",
    "model = AutoModelForSequenceClassification.from_pretrained(model_name, num_labels=2)\n",
    "print(model)\n",
    "#------------------------------\n",
    "# Hint: make sure your model corresponds to your tokenizer"
   ]
  },
  {
   "cell_type": "code",
   "execution_count": 11,
   "id": "0d865dca-a413-4060-ac4e-a49039262f3f",
   "metadata": {},
   "outputs": [],
   "source": [
    "# add custom metrics that computes precision, recall, f1, accuracy\n",
    "\n",
    "from sklearn.metrics import accuracy_score, precision_score, recall_score, f1_score\n",
    "\n",
    "def compute_metrics(pred):\n",
    "    labels = pred.label_ids\n",
    "    preds = pred.predictions.argmax(-1)\n",
    "    \n",
    "    # Calculate accuracy\n",
    "    accuracy = accuracy_score(labels, preds)\n",
    "\n",
    "    # Calculate precision, recall, and F1-score\n",
    "    precision = precision_score(labels, preds, average='binary')\n",
    "    recall = recall_score(labels, preds, average='binary')\n",
    "    f1 = f1_score(labels, preds, average='binary')\n",
    "    \n",
    "    return {\n",
    "        'accuracy': accuracy,\n",
    "        'precision': precision,\n",
    "        'recall': recall,\n",
    "        'f1': f1\n",
    "    }"
   ]
  },
  {
   "cell_type": "code",
   "execution_count": 12,
   "id": "edcbf727-1479-4b81-988a-c18eba4de126",
   "metadata": {},
   "outputs": [
    {
     "name": "stdout",
     "output_type": "stream",
     "text": [
      "TrainingArguments(\n",
      "_n_gpu=1,\n",
      "accelerator_config={'split_batches': False, 'dispatch_batches': None, 'even_batches': True, 'use_seedable_sampler': True, 'non_blocking': False, 'gradient_accumulation_kwargs': None, 'use_configured_state': False},\n",
      "adafactor=False,\n",
      "adam_beta1=0.9,\n",
      "adam_beta2=0.999,\n",
      "adam_epsilon=1e-08,\n",
      "auto_find_batch_size=False,\n",
      "average_tokens_across_devices=False,\n",
      "batch_eval_metrics=False,\n",
      "bf16=False,\n",
      "bf16_full_eval=False,\n",
      "data_seed=None,\n",
      "dataloader_drop_last=False,\n",
      "dataloader_num_workers=0,\n",
      "dataloader_persistent_workers=False,\n",
      "dataloader_pin_memory=True,\n",
      "dataloader_prefetch_factor=None,\n",
      "ddp_backend=None,\n",
      "ddp_broadcast_buffers=None,\n",
      "ddp_bucket_cap_mb=None,\n",
      "ddp_find_unused_parameters=None,\n",
      "ddp_timeout=1800,\n",
      "debug=[],\n",
      "deepspeed=None,\n",
      "disable_tqdm=False,\n",
      "dispatch_batches=None,\n",
      "do_eval=True,\n",
      "do_predict=False,\n",
      "do_train=False,\n",
      "eval_accumulation_steps=None,\n",
      "eval_delay=0,\n",
      "eval_do_concat_batches=True,\n",
      "eval_on_start=False,\n",
      "eval_steps=200,\n",
      "eval_strategy=steps,\n",
      "eval_use_gather_object=False,\n",
      "evaluation_strategy=None,\n",
      "fp16=False,\n",
      "fp16_backend=auto,\n",
      "fp16_full_eval=False,\n",
      "fp16_opt_level=O1,\n",
      "fsdp=[],\n",
      "fsdp_config={'min_num_params': 0, 'xla': False, 'xla_fsdp_v2': False, 'xla_fsdp_grad_ckpt': False},\n",
      "fsdp_min_num_params=0,\n",
      "fsdp_transformer_layer_cls_to_wrap=None,\n",
      "full_determinism=False,\n",
      "gradient_accumulation_steps=1,\n",
      "gradient_checkpointing=False,\n",
      "gradient_checkpointing_kwargs=None,\n",
      "greater_is_better=None,\n",
      "group_by_length=False,\n",
      "half_precision_backend=auto,\n",
      "hub_always_push=False,\n",
      "hub_model_id=None,\n",
      "hub_private_repo=False,\n",
      "hub_strategy=every_save,\n",
      "hub_token=<HUB_TOKEN>,\n",
      "ignore_data_skip=False,\n",
      "include_for_metrics=[],\n",
      "include_inputs_for_metrics=False,\n",
      "include_num_input_tokens_seen=False,\n",
      "include_tokens_per_second=False,\n",
      "jit_mode_eval=False,\n",
      "label_names=None,\n",
      "label_smoothing_factor=0.0,\n",
      "learning_rate=2e-05,\n",
      "length_column_name=length,\n",
      "load_best_model_at_end=False,\n",
      "local_rank=0,\n",
      "log_level=passive,\n",
      "log_level_replica=warning,\n",
      "log_on_each_node=True,\n",
      "logging_dir=.logs/finetuning-tweeteval\\runs\\Feb24_21-17-52_LAPTOP-FGMIUE12,\n",
      "logging_first_step=False,\n",
      "logging_nan_inf_filter=True,\n",
      "logging_steps=500,\n",
      "logging_strategy=steps,\n",
      "lr_scheduler_kwargs={},\n",
      "lr_scheduler_type=linear,\n",
      "max_grad_norm=1.0,\n",
      "max_steps=-1,\n",
      "metric_for_best_model=None,\n",
      "mp_parameters=,\n",
      "neftune_noise_alpha=None,\n",
      "no_cuda=False,\n",
      "num_train_epochs=1,\n",
      "optim=adamw_torch,\n",
      "optim_args=None,\n",
      "optim_target_modules=None,\n",
      "output_dir=.logs/finetuning-tweeteval,\n",
      "overwrite_output_dir=False,\n",
      "past_index=-1,\n",
      "per_device_eval_batch_size=16,\n",
      "per_device_train_batch_size=16,\n",
      "prediction_loss_only=False,\n",
      "push_to_hub=False,\n",
      "push_to_hub_model_id=None,\n",
      "push_to_hub_organization=None,\n",
      "push_to_hub_token=<PUSH_TO_HUB_TOKEN>,\n",
      "ray_scope=last,\n",
      "remove_unused_columns=True,\n",
      "report_to=[''],\n",
      "restore_callback_states_from_checkpoint=False,\n",
      "resume_from_checkpoint=None,\n",
      "run_name=.logs/finetuning-tweeteval,\n",
      "save_on_each_node=False,\n",
      "save_only_model=False,\n",
      "save_safetensors=True,\n",
      "save_steps=500,\n",
      "save_strategy=steps,\n",
      "save_total_limit=None,\n",
      "seed=42,\n",
      "skip_memory_metrics=True,\n",
      "split_batches=None,\n",
      "tf32=None,\n",
      "torch_compile=False,\n",
      "torch_compile_backend=None,\n",
      "torch_compile_mode=None,\n",
      "torch_empty_cache_steps=None,\n",
      "torchdynamo=None,\n",
      "tpu_metrics_debug=False,\n",
      "tpu_num_cores=None,\n",
      "use_cpu=False,\n",
      "use_ipex=False,\n",
      "use_legacy_prediction_loop=False,\n",
      "use_liger_kernel=False,\n",
      "use_mps_device=False,\n",
      "warmup_ratio=0.0,\n",
      "warmup_steps=0,\n",
      "weight_decay=0.01,\n",
      ")\n"
     ]
    }
   ],
   "source": [
    "\n",
    "#\n",
    "# QUESTION: configure the training parameters using the Huggingface TrainingArguments class\n",
    "# - set the output directory to \"finetuning-tweeteval\"\n",
    "# - do not report training metrics to an external experiment tracking service\n",
    "# - print acc/p/r/f1 scores on the validation set every 200 steps\n",
    "# - learning rate to 2e-5, \n",
    "# - set weight decay to 0.01\n",
    "# - set epochs to 1\n",
    "\n",
    "\n",
    "#--- ADD YOUR SOLUTION HERE (5 points) ---\n",
    "# Configure training parameters using Huggingface TrainingArguments\n",
    "\n",
    "from transformers import TrainingArguments\n",
    "\n",
    "training_args = TrainingArguments(\n",
    "    output_dir=\".logs/finetuning-tweeteval\",  # output directory\n",
    "    eval_strategy=\"steps\",                    # evaluate every fixed number of steps\n",
    "    eval_steps=200,                           # evaluation every 200 steps\n",
    "    learning_rate=2e-5,                       # learning rate\n",
    "    weight_decay=0.01,                        # weight decay\n",
    "    num_train_epochs=1,                       # number of training epochs\n",
    "    report_to=[\"\"],                           \n",
    "    per_device_train_batch_size=16,           \n",
    "    per_device_eval_batch_size=16             \n",
    ")\n",
    "print(training_args)\n",
    "\n",
    "#------------------------------"
   ]
  },
  {
   "cell_type": "code",
   "execution_count": 22,
   "id": "52ef1bb5-565d-4d9d-ad4a-cfba3f6d47d5",
   "metadata": {},
   "outputs": [
    {
     "name": "stdout",
     "output_type": "stream",
     "text": [
      "[2025-02-24 18:27:48,942] [INFO] [real_accelerator.py:222:get_accelerator] Setting ds_accelerator to cuda (auto detect)\n"
     ]
    },
    {
     "name": "stderr",
     "output_type": "stream",
     "text": [
      "W0224 18:27:50.109000 16644 site-packages\\torch\\distributed\\elastic\\multiprocessing\\redirects.py:29] NOTE: Redirects are currently not supported in Windows or MacOs.\n"
     ]
    }
   ],
   "source": [
    "# initialize trainer\n",
    "trainer = Trainer(\n",
    "    model=model,\n",
    "    args=training_args,\n",
    "    train_dataset=train_dataset,\n",
    "    eval_dataset=eval_dataset,\n",
    "    compute_metrics=compute_metrics,\n",
    ")"
   ]
  },
  {
   "cell_type": "code",
   "execution_count": 23,
   "id": "30d891ae-4a62-44d1-8cf1-d05a1bc75074",
   "metadata": {},
   "outputs": [
    {
     "data": {
      "application/vnd.jupyter.widget-view+json": {
       "model_id": "72a977113ffd4c7680acd66949603209",
       "version_major": 2,
       "version_minor": 0
      },
      "text/plain": [
       "  0%|          | 0/745 [00:00<?, ?it/s]"
      ]
     },
     "metadata": {},
     "output_type": "display_data"
    },
    {
     "data": {
      "application/vnd.jupyter.widget-view+json": {
       "model_id": "8e9acdbe30fc475a8fed38d306de41d0",
       "version_major": 2,
       "version_minor": 0
      },
      "text/plain": [
       "  0%|          | 0/83 [00:00<?, ?it/s]"
      ]
     },
     "metadata": {},
     "output_type": "display_data"
    },
    {
     "name": "stdout",
     "output_type": "stream",
     "text": [
      "{'eval_loss': 0.45605579018592834, 'eval_accuracy': 0.7922960725075529, 'eval_precision': 0.7395833333333334, 'eval_recall': 0.6187363834422658, 'eval_f1': 0.6737841043890866, 'eval_runtime': 96.1349, 'eval_samples_per_second': 13.772, 'eval_steps_per_second': 0.863, 'epoch': 0.27}\n"
     ]
    },
    {
     "data": {
      "application/vnd.jupyter.widget-view+json": {
       "model_id": "ebf4c3b6f3f1467eb55ef26fbf164866",
       "version_major": 2,
       "version_minor": 0
      },
      "text/plain": [
       "  0%|          | 0/83 [00:00<?, ?it/s]"
      ]
     },
     "metadata": {},
     "output_type": "display_data"
    },
    {
     "name": "stdout",
     "output_type": "stream",
     "text": [
      "{'eval_loss': 0.44149529933929443, 'eval_accuracy': 0.7915407854984894, 'eval_precision': 0.7113163972286374, 'eval_recall': 0.6710239651416122, 'eval_f1': 0.6905829596412556, 'eval_runtime': 96.5376, 'eval_samples_per_second': 13.715, 'eval_steps_per_second': 0.86, 'epoch': 0.54}\n",
      "{'loss': 0.4721, 'grad_norm': 5.443624496459961, 'learning_rate': 6.5771812080536925e-06, 'epoch': 0.67}\n"
     ]
    },
    {
     "data": {
      "application/vnd.jupyter.widget-view+json": {
       "model_id": "b84b0e390c7e46baa2f18165cd5c88ed",
       "version_major": 2,
       "version_minor": 0
      },
      "text/plain": [
       "  0%|          | 0/83 [00:00<?, ?it/s]"
      ]
     },
     "metadata": {},
     "output_type": "display_data"
    },
    {
     "name": "stdout",
     "output_type": "stream",
     "text": [
      "{'eval_loss': 0.42993900179862976, 'eval_accuracy': 0.7945619335347432, 'eval_precision': 0.7694524495677233, 'eval_recall': 0.5816993464052288, 'eval_f1': 0.6625310173697271, 'eval_runtime': 144.5637, 'eval_samples_per_second': 9.159, 'eval_steps_per_second': 0.574, 'epoch': 0.81}\n",
      "{'train_runtime': 1613.0439, 'train_samples_per_second': 7.387, 'train_steps_per_second': 0.462, 'train_loss': 0.46129313219313656, 'epoch': 1.0}\n"
     ]
    }
   ],
   "source": [
    "train_output = trainer.train()"
   ]
  },
  {
   "cell_type": "code",
   "execution_count": 32,
   "id": "3e6f657e",
   "metadata": {},
   "outputs": [
    {
     "name": "stdout",
     "output_type": "stream",
     "text": [
      "{'train_runtime': 1613.0439, 'train_samples_per_second': 7.387, 'train_steps_per_second': 0.462, 'total_flos': 1578481522384896.0, 'train_loss': 0.46129313219313656, 'epoch': 1.0}\n"
     ]
    }
   ],
   "source": [
    "print(train_output.metrics)"
   ]
  },
  {
   "cell_type": "code",
   "execution_count": 24,
   "id": "003379b3-a5ba-4d80-8998-514d57bf2449",
   "metadata": {},
   "outputs": [
    {
     "data": {
      "application/vnd.jupyter.widget-view+json": {
       "model_id": "306e4fb0de0d433188bfb60a03d02d56",
       "version_major": 2,
       "version_minor": 0
      },
      "text/plain": [
       "  0%|          | 0/745 [00:00<?, ?it/s]"
      ]
     },
     "metadata": {},
     "output_type": "display_data"
    },
    {
     "name": "stdout",
     "output_type": "stream",
     "text": [
      "Train Set Results:\n",
      "{'eval_loss': 0.3756553828716278, 'eval_accuracy': 0.8414736488754616, 'eval_precision': 0.765253360910031, 'eval_recall': 0.7510784064958133, 'eval_f1': 0.7580996286336279, 'eval_runtime': 1165.7265, 'eval_samples_per_second': 10.222, 'eval_steps_per_second': 0.639, 'epoch': 1.0}\n"
     ]
    }
   ],
   "source": [
    "# Evaluate on training set\n",
    "train_results = trainer.evaluate(train_dataset)\n",
    "print(\"Train Set Results:\")\n",
    "print(train_results)"
   ]
  },
  {
   "cell_type": "code",
   "execution_count": 25,
   "id": "6eeb0514-431e-44b0-8372-c57e354bc330",
   "metadata": {},
   "outputs": [
    {
     "data": {
      "application/vnd.jupyter.widget-view+json": {
       "model_id": "048c174344bc43f9a66b80c6dde5fe25",
       "version_major": 2,
       "version_minor": 0
      },
      "text/plain": [
       "  0%|          | 0/83 [00:00<?, ?it/s]"
      ]
     },
     "metadata": {},
     "output_type": "display_data"
    },
    {
     "name": "stdout",
     "output_type": "stream",
     "text": [
      "Validation Set Results:\n",
      "{'eval_loss': 0.42820149660110474, 'eval_accuracy': 0.802870090634441, 'eval_precision': 0.7152173913043478, 'eval_recall': 0.7167755991285403, 'eval_f1': 0.7159956474428727, 'eval_runtime': 131.757, 'eval_samples_per_second': 10.049, 'eval_steps_per_second': 0.63, 'epoch': 1.0}\n"
     ]
    }
   ],
   "source": [
    "# Evaluate on validation set\n",
    "# trainer.evaluate(eval_dataset)\n",
    "eval_results = trainer.evaluate(eval_dataset)\n",
    "print(\"Validation Set Results:\")\n",
    "print(eval_results)"
   ]
  },
  {
   "cell_type": "code",
   "execution_count": 26,
   "id": "c51d1460-504c-4ab3-8eaf-0691f1f5a91f",
   "metadata": {},
   "outputs": [
    {
     "data": {
      "application/vnd.jupyter.widget-view+json": {
       "model_id": "14161b02d8674aa7ba251cf08fcf0acb",
       "version_major": 2,
       "version_minor": 0
      },
      "text/plain": [
       "  0%|          | 0/54 [00:00<?, ?it/s]"
      ]
     },
     "metadata": {},
     "output_type": "display_data"
    },
    {
     "name": "stdout",
     "output_type": "stream",
     "text": [
      "Test Set Results:\n",
      "{'eval_loss': 0.3747679889202118, 'eval_accuracy': 0.8511627906976744, 'eval_precision': 0.7592592592592593, 'eval_recall': 0.6833333333333333, 'eval_f1': 0.7192982456140351, 'eval_runtime': 77.9759, 'eval_samples_per_second': 11.029, 'eval_steps_per_second': 0.693, 'epoch': 1.0}\n"
     ]
    }
   ],
   "source": [
    "# Evaluate on test set\n",
    "# test_output = trainer.evaluate(test_dataset)\n",
    "test_results = trainer.evaluate(test_dataset)\n",
    "print(\"Test Set Results:\")\n",
    "print(test_results)"
   ]
  },
  {
   "cell_type": "markdown",
   "id": "dd1d39da-72df-410e-adb4-325c6be590d4",
   "metadata": {},
   "source": [
    "### QUESTION: \n",
    "Do you see any signs of overfitting or underfitting based on the evaluation scores\n",
    "Explain why or why not\n",
    "\n",
    "**--- ADD YOUR SOLUTION HERE (5 points) ---**\n",
    "\n",
    "------------------------------\n",
    "\n",
    "The evaluation scores do not indicate any strong signs of overfitting or underfitting. \n",
    "- The F1 score of training dataset during inference (`train_results['eval_f1']`) is around 75.8%.\n",
    "- The F1 score of validation dataset during inference (`eval_results['eval_f1']`) is around 71.5%.\n",
    "- The F1 score of test dataset during inference (`test_results['eval_f1']`) is around 71.9%.\n",
    "\n",
    "This modest drop (about 4 percentage points) from training to validation suggests that the model generalizes reasonably well and is not overfitting severely. At the same time, the relatively high scores across all splits indicate that the model is learning meaningful patterns and is not underfitting. Overall, the performance across training, validation, and test sets is fairly consistent, implying that the model is well-tuned for the task."
   ]
  },
  {
   "cell_type": "code",
   "execution_count": null,
   "id": "c82913fe-0bbc-41de-acae-ad0662926b95",
   "metadata": {},
   "outputs": [
    {
     "name": "stdout",
     "output_type": "stream",
     "text": [
      "F1 Score (SGD): 0.5227272727272727\n",
      "Training Time (SGD): 0.23806381225585938\n",
      "Ratio F1 Score to Training Time (SGD): 2.1957443585145606\n",
      "F1 Score (BERT): 0.7192982456140351\n",
      "Training Time (BERT): 1613.0439\n",
      "Ratio F1 Score to Training Time (BERT): 0.0004459260195051326\n"
     ]
    }
   ],
   "source": [
    "#\n",
    "# QUESTION: What is the ratio f1 score to training time for the SGDClassifier and the DistilBERT model\n",
    "# compute the two ratios and print them\n",
    "\n",
    "#--- ADD YOUR SOLUTION HERE ---\n",
    "\n",
    "ratio_sgd = f1_test_sgd / train_time_sgd\n",
    "print(\"F1 Score (SGD):\", f1_test_sgd)\n",
    "print(\"Training Time (SGD):\", train_time_sgd)\n",
    "print(\"Ratio F1 Score to Training Time (SGD):\", ratio_sgd)\n",
    "\n",
    "ratio_bert = test_results[\"eval_f1\"] / train_output.metrics[\"train_runtime\"]\n",
    "print(\"F1 Score (BERT):\", test_results[\"eval_f1\"])\n",
    "print(\"Training Time (BERT):\", train_output.metrics[\"train_runtime\"])\n",
    "print(\"Ratio F1 Score to Training Time (BERT):\", ratio_bert)\n",
    "\n",
    "#------------------------------\n"
   ]
  },
  {
   "cell_type": "markdown",
   "id": "3b4e7d14-f997-4022-ab46-2cb1ac247073",
   "metadata": {},
   "source": [
    "### QUESTION: \n",
    "Given the results what model would you recommend to use? Write a paragraph (max 200 words) to explain your choice\n",
    "\n",
    "**--- ADD YOUR SOLUTION HERE (10 points)---**\n",
    "\n",
    "------------------------------\n",
    "\n",
    "Based on the results, the choice between SGDClassifier and DistilBERT Base Uncased depends on the trade-off between performance and efficiency. SGDClassifier has a lower F1 Score (0.523) but trains significantly faster (0.238 seconds), resulting in a high F1-to-training-time ratio (2.196). In contrast, DistilBERT achieves a much better F1 Score (0.719) but requires 1613 seconds for training, leading to a low F1-to-training-time ratio (0.00045).\n",
    "\n",
    "If real-time training efficiency is a priority, SGDClassifier is the better choice due to its speed. However, if classification accuracy is critical, DistilBERT is preferred despite its longer training time.\n",
    "\n",
    "Given the performance gap in F1 Score, DistilBERT is recommended if computational resources allow. The improved classification quality justifies the longer training time, especially for large-scale applications where inference speed is optimized separately. However, if rapid training with moderate performance is acceptable, SGDClassifier remains a viable option."
   ]
  },
  {
   "cell_type": "markdown",
   "id": "fcc57acf-c65a-4ba7-9d9c-9b212251e542",
   "metadata": {},
   "source": [
    "# End\n",
    "\n",
    "This concludes assignment 1.\n",
    "\n",
    "\n",
    "Please submit this notebook with your answers and the generated output cells as a **Jupyter notebook file** via github.\n",
    "\n",
    "\n",
    "1. Create a private github repository **sutd_5055mlop** under your github user.\n",
    "2. Add your instructors as collaborator: ddahlmeier and lucainiaoge\n",
    "3. Save your submission as assignment_01_STUDENT_NAME.ipynb where STUDENT_NAME is your name in your SUTD email address.\n",
    "4. Push the submission file to your repo \n",
    "5. Submit the link to the repo via eDimensions\n",
    "\n",
    "Example:<br/>\n",
    "Email: michael_tan@mymail.sutd.edu.sg<br/>\n",
    "STUDENT_NAME: michael_tan<br/>\n",
    "Submission file name: assignment_01_michael_tan.ipynb\n",
    "\n",
    "\n",
    "\n",
    "**Assignment due 01 March 2025 11:59pm**\n",
    "\n",
    "\n"
   ]
  }
 ],
 "metadata": {
  "kernelspec": {
   "display_name": "ai",
   "language": "python",
   "name": "python3"
  },
  "language_info": {
   "codemirror_mode": {
    "name": "ipython",
    "version": 3
   },
   "file_extension": ".py",
   "mimetype": "text/x-python",
   "name": "python",
   "nbconvert_exporter": "python",
   "pygments_lexer": "ipython3",
   "version": "3.10.15"
  }
 },
 "nbformat": 4,
 "nbformat_minor": 5
}
